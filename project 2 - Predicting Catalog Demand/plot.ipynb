{
 "cells": [
  {
   "cell_type": "code",
   "execution_count": 1,
   "metadata": {},
   "outputs": [],
   "source": [
    "import pandas as pd\n",
    "import numpy as np\n",
    "import matplotlib.pyplot as plt\n",
    "\n",
    "\n"
   ]
  },
  {
   "cell_type": "code",
   "execution_count": 6,
   "metadata": {},
   "outputs": [
    {
     "data": {
      "text/html": [
       "<div>\n",
       "<style scoped>\n",
       "    .dataframe tbody tr th:only-of-type {\n",
       "        vertical-align: middle;\n",
       "    }\n",
       "\n",
       "    .dataframe tbody tr th {\n",
       "        vertical-align: top;\n",
       "    }\n",
       "\n",
       "    .dataframe thead th {\n",
       "        text-align: right;\n",
       "    }\n",
       "</style>\n",
       "<table border=\"1\" class=\"dataframe\">\n",
       "  <thead>\n",
       "    <tr style=\"text-align: right;\">\n",
       "      <th></th>\n",
       "      <th>Name</th>\n",
       "      <th>Customer_Segment</th>\n",
       "      <th>Customer_ID</th>\n",
       "      <th>Address</th>\n",
       "      <th>City</th>\n",
       "      <th>State</th>\n",
       "      <th>ZIP</th>\n",
       "      <th>Avg_Sale_Amount</th>\n",
       "      <th>Store_Number</th>\n",
       "      <th>Responded_to_Last_Catalog</th>\n",
       "      <th>Avg_Num_Products_Purchased</th>\n",
       "      <th>#_Years_as_Customer</th>\n",
       "    </tr>\n",
       "  </thead>\n",
       "  <tbody>\n",
       "    <tr>\n",
       "      <th>0</th>\n",
       "      <td>Pamela Wright</td>\n",
       "      <td>Store Mailing List</td>\n",
       "      <td>2</td>\n",
       "      <td>376 S Jasmine St</td>\n",
       "      <td>Denver</td>\n",
       "      <td>CO</td>\n",
       "      <td>80224</td>\n",
       "      <td>227.90</td>\n",
       "      <td>100</td>\n",
       "      <td>No</td>\n",
       "      <td>1</td>\n",
       "      <td>6</td>\n",
       "    </tr>\n",
       "    <tr>\n",
       "      <th>1</th>\n",
       "      <td>Danell Valdez</td>\n",
       "      <td>Store Mailing List</td>\n",
       "      <td>7</td>\n",
       "      <td>12066 E Lake Cir</td>\n",
       "      <td>Greenwood Village</td>\n",
       "      <td>CO</td>\n",
       "      <td>80111</td>\n",
       "      <td>55.00</td>\n",
       "      <td>105</td>\n",
       "      <td>Yes</td>\n",
       "      <td>1</td>\n",
       "      <td>6</td>\n",
       "    </tr>\n",
       "    <tr>\n",
       "      <th>2</th>\n",
       "      <td>Jessica Rinehart</td>\n",
       "      <td>Store Mailing List</td>\n",
       "      <td>8</td>\n",
       "      <td>7225 S Gaylord St</td>\n",
       "      <td>Centennial</td>\n",
       "      <td>CO</td>\n",
       "      <td>80122</td>\n",
       "      <td>212.57</td>\n",
       "      <td>101</td>\n",
       "      <td>No</td>\n",
       "      <td>1</td>\n",
       "      <td>3</td>\n",
       "    </tr>\n",
       "    <tr>\n",
       "      <th>3</th>\n",
       "      <td>Nancy Clark</td>\n",
       "      <td>Store Mailing List</td>\n",
       "      <td>9</td>\n",
       "      <td>4497 Cornish Way</td>\n",
       "      <td>Denver</td>\n",
       "      <td>CO</td>\n",
       "      <td>80239</td>\n",
       "      <td>195.31</td>\n",
       "      <td>105</td>\n",
       "      <td>Yes</td>\n",
       "      <td>1</td>\n",
       "      <td>6</td>\n",
       "    </tr>\n",
       "    <tr>\n",
       "      <th>4</th>\n",
       "      <td>Andrea Brun</td>\n",
       "      <td>Store Mailing List</td>\n",
       "      <td>10</td>\n",
       "      <td>2316 E 5th Ave</td>\n",
       "      <td>Denver</td>\n",
       "      <td>CO</td>\n",
       "      <td>80206</td>\n",
       "      <td>110.55</td>\n",
       "      <td>100</td>\n",
       "      <td>Yes</td>\n",
       "      <td>1</td>\n",
       "      <td>2</td>\n",
       "    </tr>\n",
       "  </tbody>\n",
       "</table>\n",
       "</div>"
      ],
      "text/plain": [
       "               Name    Customer_Segment  Customer_ID            Address  \\\n",
       "0     Pamela Wright  Store Mailing List            2   376 S Jasmine St   \n",
       "1     Danell Valdez  Store Mailing List            7   12066 E Lake Cir   \n",
       "2  Jessica Rinehart  Store Mailing List            8  7225 S Gaylord St   \n",
       "3       Nancy Clark  Store Mailing List            9   4497 Cornish Way   \n",
       "4       Andrea Brun  Store Mailing List           10     2316 E 5th Ave   \n",
       "\n",
       "                City State    ZIP  Avg_Sale_Amount  Store_Number  \\\n",
       "0             Denver    CO  80224           227.90           100   \n",
       "1  Greenwood Village    CO  80111            55.00           105   \n",
       "2         Centennial    CO  80122           212.57           101   \n",
       "3             Denver    CO  80239           195.31           105   \n",
       "4             Denver    CO  80206           110.55           100   \n",
       "\n",
       "  Responded_to_Last_Catalog  Avg_Num_Products_Purchased  #_Years_as_Customer  \n",
       "0                        No                           1                    6  \n",
       "1                       Yes                           1                    6  \n",
       "2                        No                           1                    3  \n",
       "3                       Yes                           1                    6  \n",
       "4                       Yes                           1                    2  "
      ]
     },
     "execution_count": 6,
     "metadata": {},
     "output_type": "execute_result"
    }
   ],
   "source": [
    "%matplotlib inline\n",
    "\n",
    "customers_df = pd.read_csv('data/p1-customers.csv')\n",
    "catalog_customers_df = pd.read_csv('data/p1-mailinglist-withpredictions.csv')\n",
    "# del customers_df['Unnamed: 0']\n",
    "# del catalog_customers_df['Unnamed: 0']\n",
    "\n",
    "# Show df to get an idea of the data\n",
    "customers_df.head()"
   ]
  },
  {
   "cell_type": "code",
   "execution_count": 8,
   "metadata": {},
   "outputs": [
    {
     "data": {
      "image/png": "[encoded data removed]",
      "text/plain": [
       "<Figure size 432x288 with 1 Axes>"
      ]
     },
     "metadata": {
      "needs_background": "light"
     },
     "output_type": "display_data"
    }
   ],
   "source": [
    "ax = customers_df.plot(kind='scatter',x='Avg_Num_Products_Purchased',y='Avg_Sale_Amount', color='blue', label = \"purschase amount\" )\n",
    "catalog_customers_df.plot(kind='scatter',x='Avg_Num_Products_Purchased',y='Predicted amount', color='orange' , ax=ax, label = \"predicted purschase amount\" )\n",
    "plt.title(' Avg. Num. of Purchased Products vs. Purchase amount');\n",
    "plt.legend()\n",
    "plt.grid();\n",
    "plt.show()\n",
    "\n"
   ]
  },
  {
   "cell_type": "code",
   "execution_count": null,
   "metadata": {},
   "outputs": [],
   "source": []
  }
 ],
 "metadata": {
  "kernelspec": {
   "display_name": "Python 3",
   "language": "python",
   "name": "python3"
  },
  "language_info": {
   "codemirror_mode": {
    "name": "ipython",
    "version": 3
   },
   "file_extension": ".py",
   "mimetype": "text/x-python",
   "name": "python",
   "nbconvert_exporter": "python",
   "pygments_lexer": "ipython3",
   "version": "3.7.6"
  }
 },
 "nbformat": 4,
 "nbformat_minor": 4
}
